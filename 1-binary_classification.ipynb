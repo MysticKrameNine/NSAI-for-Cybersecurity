{
 "cells": [
  {
   "cell_type": "markdown",
   "metadata": {
    "collapsed": true,
    "pycharm": {
     "name": "#%% md\n"
    }
   },
   "source": [
    "# The reach of Logic Tensor Networks\n",
    "\n",
    "**Premise:** we suggest going through the tutorials (`/tutorial` folder) before going through these examples.\n",
    "\n",
    "The objective of this series of examples is to show how the language of Real Logic can be used to specify a number of\n",
    "tasks that involve learning from data and reasoning. Examples of such tasks are classification, regression, clustering,\n",
    "link prediction, etc.\n",
    "\n",
    "The solution of a problem specified in Real Logic is obtained by interpreting such a specification in Logic Tensor Networks.\n",
    "The LTN library implements Real Logic in PyTorch. Every logical operator is grounded using PyTorch primitives such that\n",
    "LTN implements directly a PyTorch graph. Due to PyTorch built-in optimization, LTN is relatively efficient while\n",
    "providing the expressive power of first-order logic.\n",
    "\n",
    "The first tutorial that we will see is based on one of the most simple and intuitive machine learning tasks, the binary\n",
    "classification.\n",
    "\n",
    "## Binary classification\n",
    "\n",
    "The simplest machine learning task is binary classification. Suppose that one wants to learn a binary classifier $A$ for\n",
    "a set of points in $[0, 1]^2$. Suppose that a set of positive and negative training examples is given.\n",
    "\n",
    "LTN uses the following language and grounding:\n",
    "\n",
    "**Domains:**\n",
    "- $points$ (denoting the examples);\n",
    "\n",
    "**Variables:**\n",
    "- $x_+$ for the positive examples;\n",
    "- $x_-$ for the negative examples;\n",
    "- $x$ for all examples;\n",
    "- $D(x) = D(x_+) = D(x_-) = points$, where $D(.)$ is a function which returns the domain of a non-logical symbol given in\n",
    "input.\n",
    "\n",
    "**Predicates:**\n",
    "- $A(x)$ for the trainable classifier;\n",
    "- $D_{in}(A) = points$, where $D_{in}(.)$ is a function which returns the domain of the input of a function or predicate\n",
    "given in input.\n",
    "\n",
    "**Axioms:**\n",
    "\n",
    "- $\\forall x_+ A(x_+)$: the predicate must be true for positive examples;\n",
    "- $\\forall x_- \\lnot A(x_-)$: the predicate must be false for negative examples.\n",
    "\n",
    "**Grounding:**\n",
    "- $\\mathcal{G}(points)=[0,1]^{2}$;\n",
    "- $\\mathcal{G}(x) \\in[0,1]^{m \\times 2}$: $\\mathcal{G}(x)$ is a sequence of $m$ points, that is, $m$ examples;\n",
    "- $\\mathcal{G}\\left(x_{+}\\right)=\\langle d \\in \\mathcal{G}(x) \\mid\\|d-(0.5,0.5)\\|<0.09\\rangle$: $\\mathcal{G}(x_+)$ are,\n",
    "by definition in this example, the training examples with Euclidean distance to the center $(0.5, 0.5)$ smaller than\n",
    "the threshold of 0.09;\n",
    "- $\\mathcal{G}\\left(x_{+}\\right)=\\langle d \\in \\mathcal{G}(x) \\mid\\|d-(0.5,0.5)\\|>=0.09\\rangle$: $\\mathcal{G}(x_+)$ are,\n",
    "by definition in this example, the training examples with Euclidean distance to the center $(0.5, 0.5)$ larger or equal\n",
    "to the threshold of 0.09;\n",
    "- $\\mathcal{G}(A \\mid \\theta): x \\mapsto \\sigma\\left(\\operatorname{MLP}_{\\theta}(x)\\right)$, where $MLP$\n",
    "is a Multi-Layer Perceptron with a single output neuron, whose parameters $\\theta$ have to be learned.\n",
    "\n",
    "\n",
    "### Dataset\n",
    "\n",
    "Now, let's define our toy dataset with points in $[0, 1]^2$. We randomly generate 100 points, and we give them some labels\n",
    "according to the *grounding* defined above. So, points near the center will be classified as positives, while points distant\n",
    "from the center will be classified as negatives."
   ]
  },
  {
   "cell_type": "code",
   "execution_count": 46,
   "metadata": {
    "collapsed": false,
    "pycharm": {
     "name": "#%%\n"
    }
   },
   "outputs": [
    {
     "name": "stdout",
     "output_type": "stream",
     "text": [
      "tensor(False)\n"
     ]
    }
   ],
   "source": [
    "import torch\n",
    "import matplotlib.pyplot as plt\n",
    "import pandas as pd\n",
    "from sklearn.model_selection import train_test_split\n",
    "from sklearn.preprocessing import StandardScaler\n",
    "import numpy as np\n",
    "\n",
    "# Set display options\n",
    "pd.set_option('display.max_columns', None)\n",
    "\n",
    "# Load the Ethereum Fraud Detection Dataset\n",
    "data = pd.read_csv(\"transaction_dataset.csv\")\n",
    "\n",
    "# Data preprocessing and feature engineering (handle missing data, encode categorical variables, etc.)\n",
    "data.drop(columns=[\"Index\", \"Address\", \"Unnamed: 0\", \" ERC20 most sent token type\", \" ERC20_most_rec_token_type\", \" ERC20 uniq rec token name\", \" ERC20 uniq sent token name\", \"min value sent to contract\", \" ERC20 uniq sent addr.1\"], axis=1, inplace=True)\n",
    "\n",
    "# Features (assuming all other columns are features)\n",
    "features = data.drop(columns=['FLAG'])\n",
    "\n",
    "# Identify and handle NaN values\n",
    "columns_with_nan = features.columns[features.isna().any()].tolist()\n",
    "\n",
    "# Choose a strategy to handle NaN values (e.g., replace with 0 or drop rows)\n",
    "# Here, we'll replace NaN values with 0, but you can modify this as needed.\n",
    "features.fillna(0, inplace=True)\n",
    "\n",
    "# Standardize the dataset\n",
    "scaler = StandardScaler()\n",
    "features = scaler.fit_transform(features)\n",
    "\n",
    "# Convert the remaining dataset to a tensor of type float32\n",
    "dataset = torch.tensor(features, dtype=torch.float32)\n",
    "\n",
    "print(torch.isnan(dataset).any())  # Check if there are any NaN values in the dataset\n",
    "\n",
    "labels_dataset = torch.tensor(data['FLAG'].values, dtype=torch.float32)\n"
   ]
  },
  {
   "cell_type": "markdown",
   "metadata": {
    "collapsed": false,
    "pycharm": {
     "name": "#%% md\n"
    }
   },
   "source": [
    "Let's plot our dataset and see that points around the center have a positive label, while points far from the center have\n",
    "negative labels."
   ]
  },
  {
   "cell_type": "code",
   "execution_count": 47,
   "metadata": {
    "collapsed": false,
    "pycharm": {
     "name": "#%%\n"
    }
   },
   "outputs": [
    {
     "name": "stdout",
     "output_type": "stream",
     "text": [
      "Nombre de points A: 2179\n",
      "Nombre de points ~A: 7662\n"
     ]
    },
    {
     "data": {
      "image/png": "[encoded data removed]",
      "text/plain": [
       "<Figure size 288x288 with 1 Axes>"
      ]
     },
     "metadata": {
      "needs_background": "light"
     },
     "output_type": "display_data"
    }
   ],
   "source": [
    "# Convertissez les labels_dataset en un tenseur booléen si ce n'est pas déjà le cas\n",
    "labels_dataset = labels_dataset.bool()\n",
    "\n",
    "# Comptez le nombre de chaque classe\n",
    "count_A = labels_dataset.sum().item()\n",
    "count_not_A = (~labels_dataset).sum().item()\n",
    "\n",
    "print('Nombre de points A:', count_A)\n",
    "print('Nombre de points ~A:', count_not_A)\n",
    "\n",
    "plt.figure(figsize=(4,4))\n",
    "plt.scatter(dataset[labels_dataset][:,0],dataset[labels_dataset][:,1],label='A')\n",
    "plt.scatter(dataset[torch.logical_not(labels_dataset)][:,0],dataset[torch.logical_not(labels_dataset)][:,1],label='~A')\n",
    "plt.title(\"Ground truth\")\n",
    "plt.legend()\n",
    "plt.show()"
   ]
  },
  {
   "cell_type": "markdown",
   "metadata": {
    "collapsed": false,
    "pycharm": {
     "name": "#%% md\n"
    }
   },
   "source": [
    "### LTN setting\n",
    "\n",
    "In order to define our knowledge base (axioms), we need to define predicate $A$, the connectives, quantifiers, and the\n",
    "`SatAgg` operator.\n",
    "\n",
    "For the connective and quantifiers, we use the stable product configuration (seen in the tutorials). For predicate $A$, we use a simple $MLP$\n",
    "implemented as a `torch.nn.Module`.\n",
    "\n",
    "`SatAgg` is the SAT aggregator, an operator which aggregates the truth values of all the closed\n",
    "formulas included in the knowledge base. The `SatAgg`, by default, is implemented using the `pMeanError` aggregator."
   ]
  },
  {
   "cell_type": "code",
   "execution_count": 48,
   "metadata": {
    "collapsed": false,
    "pycharm": {
     "name": "#%%\n"
    }
   },
   "outputs": [],
   "source": [
    "import ltn\n",
    "# we define predicate A\n",
    "class ModelA(torch.nn.Module):\n",
    "    def __init__(self):\n",
    "        super(ModelA, self).__init__()\n",
    "        self.sigmoid = torch.nn.Sigmoid()\n",
    "        self.layer1 = torch.nn.Linear(41, 32) # 41 features\n",
    "        self.layer2 = torch.nn.Linear(32, 16)\n",
    "        self.layer3 = torch.nn.Linear(16, 1)\n",
    "        self.elu = torch.nn.ELU()\n",
    "\n",
    "    def forward(self, x):\n",
    "        # print(\"xfirst:\", x)\n",
    "        if x.numel() == 0:\n",
    "            # Le tenseur est vide, attribuez une valeur par défaut ou prenez une autre action appropriée\n",
    "            default_value = torch.tensor([0.5], dtype=torch.float32)  # Par exemple, attribuez la valeur 0.5\n",
    "            return default_value\n",
    "        x = self.elu(self.layer1(x))\n",
    "        x = self.elu(self.layer2(x))\n",
    "        x = self.layer3(x)\n",
    "        x = self.sigmoid(x)  # Assure que la sortie est dans [0, 1]\n",
    "        # print(\"xlast:\", x)\n",
    "        return x\n",
    "\n",
    "A = ltn.Predicate(ModelA())\n",
    "\n",
    "# we define the connectives, quantifiers, and the SatAgg\n",
    "Not = ltn.Connective(ltn.fuzzy_ops.NotStandard())\n",
    "Forall = ltn.Quantifier(ltn.fuzzy_ops.AggregPMeanError(p=2), quantifier=\"f\")\n",
    "SatAgg = ltn.fuzzy_ops.SatAgg()"
   ]
  },
  {
   "cell_type": "markdown",
   "metadata": {
    "collapsed": false,
    "pycharm": {
     "name": "#%% md\n"
    }
   },
   "source": [
    "### Utils\n",
    "\n",
    "Now, we need to define some utility classes and functions.\n",
    "\n",
    "We define a standard PyTorch data loader, which takes as input the dataset and returns a generator of batches of data.\n",
    "In particular, we need a data loader instance for training data and one for testing data. 50 examples are selected\n",
    "for training, 50 examples are selected for testing.\n",
    "\n",
    "Then, we define functions to evaluate the model performances. The model is evaluated on the test set using the following metrics:\n",
    "- the satisfaction level of the knowledge base: measure the ability of LTN to satisfy the knowledge;\n",
    "- the classification accuracy: measure the quality of the predictions."
   ]
  },
  {
   "cell_type": "code",
   "execution_count": 49,
   "metadata": {
    "collapsed": false,
    "pycharm": {
     "name": "#%%\n"
    }
   },
   "outputs": [],
   "source": [
    "from sklearn.metrics import accuracy_score\n",
    "import numpy as np\n",
    "\n",
    "# this is a standard PyTorch DataLoader to load the dataset for the training and testing of the model\n",
    "class DataLoader(object):\n",
    "    def __init__(self,\n",
    "                 data,\n",
    "                 labels,\n",
    "                 batch_size=1,\n",
    "                 shuffle=True):\n",
    "        self.data = data\n",
    "        self.labels = labels\n",
    "        self.batch_size = batch_size\n",
    "        self.shuffle = shuffle\n",
    "\n",
    "    def __len__(self):\n",
    "        return int(np.ceil(self.data.shape[0] / self.batch_size))\n",
    "\n",
    "    def __iter__(self):\n",
    "        n = self.data.shape[0]\n",
    "        idxlist = list(range(n))\n",
    "        if self.shuffle:\n",
    "            np.random.shuffle(idxlist)\n",
    "\n",
    "        for _, start_idx in enumerate(range(0, n, self.batch_size)):\n",
    "            end_idx = min(start_idx + self.batch_size, n)\n",
    "            data = self.data[idxlist[start_idx:end_idx]]\n",
    "            labels = self.labels[idxlist[start_idx:end_idx]]\n",
    "\n",
    "            yield data, labels\n",
    "\n",
    "\n",
    "# define metrics for evaluation of the model\n",
    "\n",
    "# it computes the overall satisfaction level on the knowledge base using the given data loader (train or test)\n",
    "# def compute_sat_level(loader):\n",
    "#     mean_sat = 0\n",
    "#     for data, labels in loader:\n",
    "#         x_A = ltn.Variable(\"x_A\", data[torch.nonzero(labels)])  # positive examples\n",
    "#         x_not_A = ltn.Variable(\"x_not_A\",\n",
    "#                                data[torch.nonzero(torch.logical_not(labels))])  # negative examples\n",
    "#         mean_sat += SatAgg(\n",
    "#             Forall(x_A, A(x_A)),\n",
    "#             Forall(x_not_A, Not(A(x_not_A)))\n",
    "#         )\n",
    "#     mean_sat /= len(loader)\n",
    "#     return mean_sat\n",
    "def compute_sat_level(loader):\n",
    "    mean_sat = 0.0\n",
    "    total_batches = 0\n",
    "\n",
    "    for batch_idx, (data, labels) in enumerate(loader):\n",
    "        # Vérifiez d'abord si le tenseur data est vide\n",
    "        if data.numel() == 0:\n",
    "            # print(f\"Batch {batch_idx} is empty, skipping\")\n",
    "            continue\n",
    "\n",
    "        # Obtenir les indices des exemples positifs et négatifs\n",
    "        indices_pos = torch.nonzero(labels, as_tuple=True)\n",
    "        indices_neg = torch.nonzero(torch.logical_not(labels), as_tuple=True)\n",
    "\n",
    "        # Utiliser ces indices pour indexer `data` directement, sans ajouter de dimension supplémentaire\n",
    "        x_A = ltn.Variable(\"x_A\", data[indices_pos])  # Exemples positifs\n",
    "        x_not_A = ltn.Variable(\"x_not_A\", data[indices_neg])  # Exemples négatifs\n",
    "\n",
    "        # Assurez-vous que les variables ne sont pas vides avant de procéder\n",
    "        if x_A.value.numel() > 0 and x_not_A.value.numel() > 0:\n",
    "            sat_agg = SatAgg(\n",
    "                Forall(x_A, A(x_A)),\n",
    "                Forall(x_not_A, Not(A(x_not_A)))\n",
    "            )\n",
    "            mean_sat += sat_agg.item()\n",
    "            total_batches += 1\n",
    "            # print(f\"Batch {batch_idx} | Sat Agg: {sat_agg.item()}\")\n",
    "\n",
    "    if total_batches == 0:\n",
    "        return 0.0  # Aucun batch n'a pu être utilisé, retournez 0 comme valeur par défaut\n",
    "\n",
    "    return mean_sat / total_batches\n",
    "\n",
    "\n",
    "# it computes the overall accuracy of the predictions of the trained model using the given data loader\n",
    "# (train or test)\n",
    "def compute_accuracy(loader):\n",
    "    mean_accuracy = 0.0\n",
    "    for data, labels in loader:\n",
    "        predictions = A.model(data).detach().numpy()\n",
    "        predictions = np.where(predictions > 0.5, 1., 0.).flatten()\n",
    "        mean_accuracy += accuracy_score(labels, predictions)\n",
    "\n",
    "    return mean_accuracy / len(loader)\n",
    "\n",
    "# create train and test loader, 50 points each\n",
    "# batch size is 64, meaning there is only one batch for epoch\n",
    "# train_loader = DataLoader(dataset[:50], labels_dataset[:50], 64, True)\n",
    "# test_loader = DataLoader(dataset[50:], labels_dataset[50:], 64, False)\n",
    "\n",
    "# Supposons que vous voulez utiliser 80% des données pour l'entraînement\n",
    "split_idx = int(0.8 * len(dataset))\n",
    "batch_size = 64  # Réduisez la taille du batch si nécessaire\n",
    "\n",
    "train_loader = DataLoader(dataset[:split_idx], labels_dataset[:split_idx], batch_size, True)\n",
    "test_loader = DataLoader(dataset[split_idx:], labels_dataset[split_idx:], batch_size, False)"
   ]
  },
  {
   "cell_type": "markdown",
   "metadata": {
    "collapsed": false,
    "pycharm": {
     "name": "#%% md\n"
    }
   },
   "source": [
    "### Learning\n",
    "Let us define $D$ the data set of all examples. The objective function with $\\mathcal{K}=\\left\\{\\forall x_{+} A\\left(x_{+}\\right), \\forall x_{-} \\neg A\\left(x_{-}\\right)\\right\\}$\n",
    "is given by $\\operatorname{SatAgg}_{\\phi \\in \\mathcal{K}} \\mathcal{G}_{\\boldsymbol{\\theta}, x \\leftarrow \\boldsymbol{D}}(\\phi)$.\n",
    "\n",
    "In practice, the optimizer uses the following loss function:\n",
    "\n",
    "$\\boldsymbol{L}=\\left(1-\\underset{\\phi \\in \\mathcal{K}}{\\operatorname{SatAgg}} \\mathcal{G}_{\\boldsymbol{\\theta}, x \\leftarrow \\boldsymbol{B}}(\\phi)\\right)$\n",
    "\n",
    "where $B$ is a mini batch sampled from $D$.\n",
    "\n",
    "The notation $\\mathcal{G}_{x \\leftarrow \\boldsymbol{D}}(\\phi(x))$ means that the variable $x$ is grounded with the data $D$ when\n",
    "grounding $\\phi(x)$.\n",
    "\n",
    "By minimizing the loss, we will try to maximize the `SatAgg` operator applied to the knowledge base. Maximizing the `SatAgg` operator\n",
    "means maximizing the satisfaction level of each formula included in the knowledge base.\n",
    "\n",
    "Notice that the objective and the loss function depend on the following hyper-parameters:\n",
    "- the choice of fuzzy logic operator semantics used to approximate each connective and quantifier;\n",
    "- the choice of hyper-parameters underlying the operators, such as the value of the exponent $p$ in any generalized mean;\n",
    "- the choice of formula aggregator function `SatAgg`.\n",
    "\n",
    "In the following, we learn our LTN in the binary classification task using the satisfaction of the knowledge base as\n",
    "an objective. In other words, we want to learn the parameters $\\theta$ of unary predicate $A$ in such a way the two\n",
    "axioms in the knowledge base are maximally satisfied. We train our model for 1000 epochs and use the `Adam` optimizer.\n",
    "\n",
    "The following figure shows the LTN computational graph for this specific task.\n",
    "\n",
    "![Computational graph](/examples/images/binary-classification.png)"
   ]
  },
  {
   "cell_type": "code",
   "execution_count": 50,
   "metadata": {
    "collapsed": false,
    "pycharm": {
     "name": "#%%\n"
    }
   },
   "outputs": [
    {
     "name": "stdout",
     "output_type": "stream",
     "text": [
      " epoch 0 | loss 0.3775 | Train Sat 0.560 | Test Sat 0.000 | Train Acc 0.554 | Test Acc 0.851\n",
      " epoch 20 | loss 0.2777 | Train Sat 0.665 | Test Sat 0.000 | Train Acc 0.814 | Test Acc 0.870\n",
      " epoch 40 | loss 0.2617 | Train Sat 0.674 | Test Sat 0.000 | Train Acc 0.842 | Test Acc 0.861\n",
      " epoch 60 | loss 0.2540 | Train Sat 0.685 | Test Sat 0.000 | Train Acc 0.860 | Test Acc 0.837\n",
      " epoch 80 | loss 0.2725 | Train Sat 0.674 | Test Sat 0.000 | Train Acc 0.887 | Test Acc 0.821\n",
      " epoch 100 | loss 0.2787 | Train Sat 0.694 | Test Sat 0.000 | Train Acc 0.878 | Test Acc 0.826\n",
      " epoch 120 | loss 0.2697 | Train Sat 0.685 | Test Sat 0.000 | Train Acc 0.885 | Test Acc 0.819\n",
      " epoch 140 | loss 0.2507 | Train Sat 0.663 | Test Sat 0.000 | Train Acc 0.893 | Test Acc 0.804\n",
      " epoch 160 | loss 0.2727 | Train Sat 0.696 | Test Sat 0.000 | Train Acc 0.851 | Test Acc 0.858\n",
      " epoch 180 | loss 0.2613 | Train Sat 0.701 | Test Sat 0.000 | Train Acc 0.878 | Test Acc 0.832\n",
      " epoch 200 | loss 0.2549 | Train Sat 0.687 | Test Sat 0.000 | Train Acc 0.867 | Test Acc 0.840\n",
      " epoch 220 | loss 0.2545 | Train Sat 0.701 | Test Sat 0.000 | Train Acc 0.851 | Test Acc 0.861\n",
      " epoch 240 | loss 0.2556 | Train Sat 0.671 | Test Sat 0.000 | Train Acc 0.895 | Test Acc 0.820\n",
      " epoch 260 | loss 0.2487 | Train Sat 0.675 | Test Sat 0.000 | Train Acc 0.826 | Test Acc 0.878\n",
      " epoch 280 | loss 0.2549 | Train Sat 0.698 | Test Sat 0.000 | Train Acc 0.847 | Test Acc 0.869\n",
      " epoch 300 | loss 0.2634 | Train Sat 0.696 | Test Sat 0.000 | Train Acc 0.848 | Test Acc 0.867\n",
      " epoch 320 | loss 0.2490 | Train Sat 0.703 | Test Sat 0.000 | Train Acc 0.893 | Test Acc 0.828\n",
      " epoch 340 | loss 0.2666 | Train Sat 0.699 | Test Sat 0.000 | Train Acc 0.864 | Test Acc 0.858\n",
      " epoch 360 | loss 0.2649 | Train Sat 0.706 | Test Sat 0.000 | Train Acc 0.883 | Test Acc 0.844\n",
      " epoch 380 | loss 0.2530 | Train Sat 0.706 | Test Sat 0.000 | Train Acc 0.873 | Test Acc 0.858\n",
      " epoch 400 | loss 0.2510 | Train Sat 0.718 | Test Sat 0.000 | Train Acc 0.888 | Test Acc 0.847\n",
      " epoch 420 | loss 0.2357 | Train Sat 0.716 | Test Sat 0.000 | Train Acc 0.875 | Test Acc 0.857\n",
      " epoch 440 | loss 0.2676 | Train Sat 0.715 | Test Sat 0.000 | Train Acc 0.877 | Test Acc 0.857\n",
      " epoch 460 | loss 0.2333 | Train Sat 0.711 | Test Sat 0.000 | Train Acc 0.895 | Test Acc 0.839\n",
      " epoch 480 | loss 0.2375 | Train Sat 0.710 | Test Sat 0.000 | Train Acc 0.871 | Test Acc 0.859\n",
      " epoch 500 | loss 0.2709 | Train Sat 0.650 | Test Sat 0.000 | Train Acc 0.809 | Test Acc 0.890\n",
      " epoch 520 | loss 0.2384 | Train Sat 0.712 | Test Sat 0.000 | Train Acc 0.873 | Test Acc 0.862\n",
      " epoch 540 | loss 0.2319 | Train Sat 0.711 | Test Sat 0.000 | Train Acc 0.872 | Test Acc 0.862\n",
      " epoch 560 | loss 0.2358 | Train Sat 0.705 | Test Sat 0.000 | Train Acc 0.942 | Test Acc 0.670\n",
      " epoch 580 | loss 0.2188 | Train Sat 0.720 | Test Sat 0.000 | Train Acc 0.872 | Test Acc 0.863\n",
      " epoch 600 | loss 0.2596 | Train Sat 0.732 | Test Sat 0.000 | Train Acc 0.895 | Test Acc 0.847\n",
      " epoch 620 | loss 0.2276 | Train Sat 0.731 | Test Sat 0.000 | Train Acc 0.875 | Test Acc 0.860\n",
      " epoch 640 | loss 0.2423 | Train Sat 0.717 | Test Sat 0.000 | Train Acc 0.890 | Test Acc 0.850\n",
      " epoch 660 | loss 0.2392 | Train Sat 0.724 | Test Sat 0.000 | Train Acc 0.909 | Test Acc 0.830\n",
      " epoch 680 | loss 0.2401 | Train Sat 0.731 | Test Sat 0.000 | Train Acc 0.905 | Test Acc 0.836\n",
      " epoch 700 | loss 0.2322 | Train Sat 0.724 | Test Sat 0.000 | Train Acc 0.923 | Test Acc 0.812\n",
      " epoch 720 | loss 0.2452 | Train Sat 0.699 | Test Sat 0.000 | Train Acc 0.848 | Test Acc 0.880\n",
      " epoch 740 | loss 0.2237 | Train Sat 0.682 | Test Sat 0.000 | Train Acc 0.953 | Test Acc 0.649\n",
      " epoch 760 | loss 0.2333 | Train Sat 0.723 | Test Sat 0.000 | Train Acc 0.905 | Test Acc 0.832\n",
      " epoch 780 | loss 0.2451 | Train Sat 0.722 | Test Sat 0.000 | Train Acc 0.893 | Test Acc 0.842\n",
      " epoch 800 | loss 0.2353 | Train Sat 0.724 | Test Sat 0.000 | Train Acc 0.867 | Test Acc 0.863\n",
      " epoch 820 | loss 0.2275 | Train Sat 0.736 | Test Sat 0.000 | Train Acc 0.901 | Test Acc 0.842\n",
      " epoch 840 | loss 0.2153 | Train Sat 0.715 | Test Sat 0.000 | Train Acc 0.879 | Test Acc 0.858\n",
      " epoch 860 | loss 0.2291 | Train Sat 0.725 | Test Sat 0.000 | Train Acc 0.877 | Test Acc 0.858\n",
      " epoch 880 | loss 0.2306 | Train Sat 0.718 | Test Sat 0.000 | Train Acc 0.863 | Test Acc 0.871\n",
      " epoch 900 | loss 0.2293 | Train Sat 0.740 | Test Sat 0.000 | Train Acc 0.909 | Test Acc 0.831\n",
      " epoch 920 | loss 0.2271 | Train Sat 0.700 | Test Sat 0.000 | Train Acc 0.968 | Test Acc 0.634\n",
      " epoch 940 | loss 0.2313 | Train Sat 0.730 | Test Sat 0.000 | Train Acc 0.880 | Test Acc 0.860\n",
      " epoch 960 | loss 0.2300 | Train Sat 0.720 | Test Sat 0.000 | Train Acc 0.936 | Test Acc 0.803\n",
      " epoch 980 | loss 0.2184 | Train Sat 0.720 | Test Sat 0.000 | Train Acc 0.954 | Test Acc 0.663\n"
     ]
    }
   ],
   "source": [
    "optimizer = torch.optim.Adam(A.parameters(), lr=0.001)\n",
    "\n",
    "# training of the predicate A using a loss containing the satisfaction level of the knowledge base\n",
    "# the objective it to maximize the satisfaction level of the knowledge base\n",
    "for epoch in range(1000):\n",
    "    train_loss = 0.0\n",
    "    for batch_idx, (data, labels) in enumerate(train_loader):\n",
    "        optimizer.zero_grad()\n",
    "        # print(\"data shape:\", data.shape)\n",
    "        # print(\"labels shape:\", labels.shape)\n",
    "\n",
    "        # we ground the variables with current batch data\n",
    "        # x_A = ltn.Variable(\"x_A\", data[torch.nonzero(labels)]) # positive examples\n",
    "        # x_not_A = ltn.Variable(\"x_not_A\", data[torch.nonzero(torch.logical_not(labels))]) # negative examples\n",
    "\n",
    "        # Obtenir les indices des exemples positifs et négatifs\n",
    "        indices_pos = torch.nonzero(labels, as_tuple=True)\n",
    "        indices_neg = torch.nonzero(torch.logical_not(labels), as_tuple=True)\n",
    "\n",
    "        # Utiliser ces indices pour indexer `data` directement, sans ajouter de dimension supplémentaire\n",
    "        x_A = ltn.Variable(\"x_A\", data[indices_pos])  # Exemples positifs\n",
    "        x_not_A = ltn.Variable(\"x_not_A\", data[indices_neg])  # Exemples négatifs\n",
    "\n",
    "        # Assurez-vous que les variables ne sont pas vides avant de procéder\n",
    "        if x_A.value.numel() > 0 and x_not_A.value.numel() > 0:\n",
    "            # Calculer la satisfaction moyenne sur le batch\n",
    "            sat_agg = SatAgg(\n",
    "                Forall(x_A, A(x_A)),\n",
    "                Forall(x_not_A, Not(A(x_not_A)))\n",
    "            )\n",
    "            loss = 1. - sat_agg\n",
    "            loss.backward()\n",
    "            optimizer.step()\n",
    "            train_loss += loss.item()\n",
    "            # print(\"epoch %d | batch %d | loss %.4f\" % (epoch, batch_idx, loss.item()))\n",
    "        else:\n",
    "            # Traitez le batch vide différemment ou ignorez-le\n",
    "            # print(\"epoch %d | batch %d | Empty batch, skipping\" % (epoch, batch_idx))\n",
    "            continue\n",
    "    train_loss = train_loss / len(train_loader)\n",
    "\n",
    "    # we print metrics every 20 epochs of training\n",
    "    if epoch % 20 == 0:\n",
    "        print(\" epoch %d | loss %.4f | Train Sat %.3f | Test Sat %.3f | Train Acc %.3f | Test Acc %.3f\"\n",
    "              %(epoch, train_loss, compute_sat_level(train_loader), compute_sat_level(test_loader),\n",
    "                    compute_accuracy(train_loader), compute_accuracy(test_loader)))"
   ]
  },
  {
   "cell_type": "markdown",
   "metadata": {
    "collapsed": false,
    "pycharm": {
     "name": "#%% md\n"
    }
   },
   "source": [
    "Notice that variables $x_+$ and $x_-$ are grounded batch by batch with new data arriving from the data loader. This is exactly what\n",
    "we mean with $\\mathcal{G}_{x \\leftarrow \\boldsymbol{B}}(\\phi(x))$, where $B$ is a mini-batch sampled by the data loader.\n",
    "\n",
    "Notice also that `SatAgg` takes as input the two axioms and returns one truth value which can be interpreted as the satisfaction\n",
    "level of the knowledge base.\n",
    "\n",
    "Note that after 800 epochs the test accuracy is around 1. This shows the power of LTN in learning\n",
    "the binary classification task only using the satisfaction of a knowledge base as an objective.\n",
    "\n",
    "In the following, we query predicate $A$ on training data and test data. The plot shows the extent of generalization."
   ]
  },
  {
   "cell_type": "code",
   "execution_count": 52,
   "metadata": {
    "collapsed": false,
    "pycharm": {
     "name": "#%%\n"
    }
   },
   "outputs": [
    {
     "data": {
      "image/png": "[encoded data removed]",
      "text/plain": [
       "<Figure size 648x792 with 9 Axes>"
      ]
     },
     "metadata": {
      "needs_background": "light"
     },
     "output_type": "display_data"
    }
   ],
   "source": [
    "nr_samples_train = 50\n",
    "\n",
    "fig = plt.figure(figsize=(9, 11))\n",
    "\n",
    "plt.subplots_adjust(wspace=0.2,hspace=0.3)\n",
    "ax = plt.subplot2grid((3,8),(0,2),colspan=4)\n",
    "ax.set_title(\"ground truth\")\n",
    "ax.scatter(dataset[labels_dataset][:,0],dataset[labels_dataset][:,1],label='A')\n",
    "ax.scatter(dataset[torch.logical_not(labels_dataset)][:,0],dataset[torch.logical_not(labels_dataset)][:,1],label='~A')\n",
    "ax.legend()\n",
    "\n",
    "# Training data\n",
    "x = ltn.Variable(\"x\",dataset[:nr_samples_train])\n",
    "fig.add_subplot(3, 2, 3)\n",
    "result=A(x)\n",
    "plt.title(\"A(x) - training data\")\n",
    "plt.scatter(dataset[:nr_samples_train,0],dataset[:nr_samples_train,1],c=result.value.detach().numpy().squeeze())\n",
    "plt.colorbar()\n",
    "\n",
    "fig.add_subplot(3, 2, 4)\n",
    "result=Not(A(x))\n",
    "plt.title(\"~A(x) - training data\")\n",
    "plt.scatter(dataset[:nr_samples_train,0],dataset[:nr_samples_train,1],c=result.value.detach().numpy().squeeze())\n",
    "plt.colorbar()\n",
    "\n",
    "# Test data\n",
    "x = ltn.Variable(\"x\",dataset[nr_samples_train:])\n",
    "fig.add_subplot(3, 2, 5)\n",
    "\n",
    "result=A(x)\n",
    "plt.title(\"A(x) - test data\")\n",
    "plt.scatter(dataset[nr_samples_train:,0],dataset[nr_samples_train:,1],c=result.value.detach().numpy().squeeze())\n",
    "plt.colorbar()\n",
    "\n",
    "fig.add_subplot(3, 2, 6)\n",
    "result=Not(A(x))\n",
    "plt.title(\"~A(x) - test data\")\n",
    "plt.scatter(dataset[nr_samples_train:,0],dataset[nr_samples_train:,1],c=result.value.detach().numpy().squeeze())\n",
    "plt.colorbar()\n",
    "plt.savefig(\"ex_binary_testing.pdf\")\n",
    "plt.show()"
   ]
  },
  {
   "cell_type": "code",
   "execution_count": 56,
   "metadata": {},
   "outputs": [],
   "source": [
    "model = A\n",
    "\n",
    "# Assuming you have a test DataLoader called test_loader\n",
    "model.eval()  # Set the model in evaluation mode\n",
    "model_predictions = []\n",
    "ground_truth_labels = []\n",
    "\n",
    "for batch_idx, (data, labels) in enumerate(test_loader):\n",
    "    # Create LTNObject from data tensor\n",
    "    ltn_data = ltn.Variable(\"x\", data)\n",
    "    \n",
    "    # Forward pass\n",
    "    with torch.no_grad():  # Disable gradient computation for inference\n",
    "        output = model(ltn_data)\n",
    "    \n",
    "    # Append predictions and ground truth labels\n",
    "    model_predictions.append(output.value.detach().numpy())  # Convert to numpy\n",
    "    ground_truth_labels.append(labels.numpy())  # Convert to numpy\n",
    "\n",
    "# Concatenate the predictions and ground truth labels\n",
    "model_predictions = np.concatenate(model_predictions, axis=0)\n",
    "ground_truth_labels = np.concatenate(ground_truth_labels, axis=0)\n",
    "\n"
   ]
  },
  {
   "cell_type": "code",
   "execution_count": 59,
   "metadata": {},
   "outputs": [
    {
     "name": "stdout",
     "output_type": "stream",
     "text": [
      "Accuracy: 0.8558\n",
      "Precision: 1.0000\n",
      "Recall: 0.8558\n",
      "F1-score: 0.9223\n"
     ]
    }
   ],
   "source": [
    "from sklearn.metrics import accuracy_score, precision_score, recall_score, f1_score\n",
    "\n",
    "# Assuming you have model_predictions and ground_truth_labels\n",
    "threshold = 0.5  # Adjust the threshold as needed\n",
    "binary_predictions = (model_predictions >= threshold).astype(int)\n",
    "\n",
    "# Calculate accuracy\n",
    "accuracy = accuracy_score(ground_truth_labels, binary_predictions)\n",
    "print(f\"Accuracy: {accuracy:.4f}\")\n",
    "\n",
    "# Calculate precision\n",
    "precision = precision_score(ground_truth_labels, binary_predictions)\n",
    "print(f\"Precision: {precision:.4f}\")\n",
    "\n",
    "# Calculate recall\n",
    "recall = recall_score(ground_truth_labels, binary_predictions)\n",
    "print(f\"Recall: {recall:.4f}\")\n",
    "\n",
    "# Calculate F1-score\n",
    "f1 = f1_score(ground_truth_labels, binary_predictions)\n",
    "print(f\"F1-score: {f1:.4f}\")\n"
   ]
  },
  {
   "cell_type": "markdown",
   "metadata": {
    "collapsed": false,
    "pycharm": {
     "name": "#%% md\n"
    }
   },
   "source": [
    "### Discussion\n",
    "\n",
    "This first example, although straightforward, illustrates step-by-step the process of using LTN on a simple setting.\n",
    "\n",
    "In particular, the knowledge has been used only to give the ground truth to the model. Through the knowledge, the model\n",
    "knows that predicate $A$ has to be maximized when the input is a positive example, while it has to be minimized when the\n",
    "input is a negative example. This is exactly what the binary cross-entropy does. So, using LTN we have reached the same\n",
    "result with just a different setting.\n",
    "\n",
    "In general, methods such LTN work well when the knowledge codifies new information respect to the ground truth. In other\n",
    "words, when information that come from data and knowledge is complementary, namely it is not redundant.\n",
    "\n",
    "In the next tutorials, we will show how the LTN language can be used to solve progressively more complex\n",
    "problems by combining learning and reasoning."
   ]
  }
 ],
 "metadata": {
  "kernelspec": {
   "display_name": "Python 3",
   "language": "python",
   "name": "python3"
  },
  "language_info": {
   "codemirror_mode": {
    "name": "ipython",
    "version": 3
   },
   "file_extension": ".py",
   "mimetype": "text/x-python",
   "name": "python",
   "nbconvert_exporter": "python",
   "pygments_lexer": "ipython3",
   "version": "3.10.7"
  }
 },
 "nbformat": 4,
 "nbformat_minor": 0
}
