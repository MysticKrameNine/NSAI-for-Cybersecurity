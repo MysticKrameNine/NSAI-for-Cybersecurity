{
  "nbformat": 4,
  "nbformat_minor": 0,
  "metadata": {
    "colab": {
      "provenance": []
    },
    "kernelspec": {
      "name": "python3",
      "display_name": "Python 3"
    },
    "language_info": {
      "name": "python"
    }
  },
  "cells": [
    {
      "cell_type": "code",
      "execution_count": null,
      "metadata": {
        "colab": {
          "base_uri": "https://localhost:8080/"
        },
        "id": "d5AYL4vgNMda",
        "outputId": "3a115fc4-2907-419e-d684-5e7d4cfe158e"
      },
      "outputs": [
        {
          "output_type": "stream",
          "name": "stdout",
          "text": [
            "Collecting LTNtorch\n",
            "  Downloading LTNtorch-1.0.1-py3-none-any.whl (29 kB)\n",
            "Requirement already satisfied: numpy in /usr/local/lib/python3.10/dist-packages (from LTNtorch) (1.23.5)\n",
            "Requirement already satisfied: torch in /usr/local/lib/python3.10/dist-packages (from LTNtorch) (2.1.0+cu121)\n",
            "Requirement already satisfied: filelock in /usr/local/lib/python3.10/dist-packages (from torch->LTNtorch) (3.13.1)\n",
            "Requirement already satisfied: typing-extensions in /usr/local/lib/python3.10/dist-packages (from torch->LTNtorch) (4.5.0)\n",
            "Requirement already satisfied: sympy in /usr/local/lib/python3.10/dist-packages (from torch->LTNtorch) (1.12)\n",
            "Requirement already satisfied: networkx in /usr/local/lib/python3.10/dist-packages (from torch->LTNtorch) (3.2.1)\n",
            "Requirement already satisfied: jinja2 in /usr/local/lib/python3.10/dist-packages (from torch->LTNtorch) (3.1.3)\n",
            "Requirement already satisfied: fsspec in /usr/local/lib/python3.10/dist-packages (from torch->LTNtorch) (2023.6.0)\n",
            "Requirement already satisfied: triton==2.1.0 in /usr/local/lib/python3.10/dist-packages (from torch->LTNtorch) (2.1.0)\n",
            "Requirement already satisfied: MarkupSafe>=2.0 in /usr/local/lib/python3.10/dist-packages (from jinja2->torch->LTNtorch) (2.1.4)\n",
            "Requirement already satisfied: mpmath>=0.19 in /usr/local/lib/python3.10/dist-packages (from sympy->torch->LTNtorch) (1.3.0)\n",
            "Installing collected packages: LTNtorch\n",
            "Successfully installed LTNtorch-1.0.1\n"
          ]
        }
      ],
      "source": [
        "!pip install LTNtorch"
      ]
    },
    {
      "cell_type": "code",
      "source": [
        "import torch\n",
        "import ltn\n",
        "import matplotlib.pyplot as plt\n",
        "import pandas as pd\n",
        "import numpy as np\n",
        "\n",
        "from google.colab import drive\n",
        "from sklearn.model_selection import train_test_split\n",
        "from torch.utils.data import DataLoader\n",
        "from sklearn.metrics import accuracy_score\n",
        "\n",
        "drive.mount('/content/drive')"
      ],
      "metadata": {
        "colab": {
          "base_uri": "https://localhost:8080/"
        },
        "id": "QWw7PhJINSam",
        "outputId": "d0d89e47-b3d2-47c7-c514-7e5abbf7fe2d"
      },
      "execution_count": null,
      "outputs": [
        {
          "output_type": "stream",
          "name": "stdout",
          "text": [
            "Drive already mounted at /content/drive; to attempt to forcibly remount, call drive.mount(\"/content/drive\", force_remount=True).\n"
          ]
        }
      ]
    },
    {
      "cell_type": "code",
      "source": [
        "class Wide(torch.nn.Module):\n",
        "    def __init__(self):\n",
        "        super().__init__()\n",
        "        self.hidden = torch.nn.Linear(16, 48)\n",
        "        self.relu = torch.nn.ReLU()\n",
        "        self.output = torch.nn.Linear(48, 1)\n",
        "        self.sigmoid = torch.nn.Sigmoid()\n",
        "\n",
        "    def forward(self, x):\n",
        "        x = self.relu(self.hidden(x))\n",
        "        x = self.sigmoid(self.output(x))\n",
        "        return x\n",
        "\n",
        "class DataLoader(object):\n",
        "    def __init__(self,\n",
        "                 data,\n",
        "                 labels,\n",
        "                 batch_size=1,\n",
        "                 shuffle=True):\n",
        "        self.data = data\n",
        "        self.labels = labels\n",
        "        self.batch_size = batch_size\n",
        "        self.shuffle = shuffle\n",
        "\n",
        "    def __len__(self):\n",
        "        return int(np.ceil(self.data.shape[0] / self.batch_size))\n",
        "\n",
        "    def __iter__(self):\n",
        "        n = self.data.shape[0]\n",
        "        idxlist = list(range(n))\n",
        "        if self.shuffle:\n",
        "            np.random.shuffle(idxlist)\n",
        "\n",
        "        for _, start_idx in enumerate(range(0, n, self.batch_size)):\n",
        "            end_idx = min(start_idx + self.batch_size, n)\n",
        "            data = self.data[idxlist[start_idx:end_idx]]\n",
        "            labels = self.labels[idxlist[start_idx:end_idx]]\n",
        "\n",
        "            yield data, labels"
      ],
      "metadata": {
        "id": "TMG3qgrZNUmR"
      },
      "execution_count": null,
      "outputs": []
    },
    {
      "cell_type": "code",
      "source": [
        "# Load CSV file using pandas\n",
        "data_features = pd.read_csv('/content/drive/My Drive/input/x_tr_resample.csv')\n",
        "data_labels = pd.read_csv('/content/drive/My Drive/input/y_tr_resample.csv')\n",
        "\n",
        "features = data_features.values\n",
        "labels = data_labels.values\n",
        "\n",
        "\n",
        "X_train, X_test, y_train, y_test = train_test_split(features, labels, test_size=0.2, random_state=42)\n",
        "\n",
        "# Convert features and labels into PyTorch tensors\n",
        "train_features_tensor = torch.tensor(features, dtype=torch.float32)\n",
        "train_labels_tensor = torch.tensor(labels, dtype=torch.float32)\n",
        "test_features_tensor = torch.tensor(features, dtype=torch.float32)\n",
        "test_labels_tensor = torch.tensor(labels, dtype=torch.float32)\n",
        "\n",
        "train_loader = DataLoader(train_features_tensor, train_labels_tensor, 64, True)\n",
        "test_loader = DataLoader(test_features_tensor, test_labels_tensor, 64, False)\n",
        "\n",
        "# Define predicates, functions, and constraints for your model\n",
        "# Example: Equality Predicate - not trainable\n",
        "alpha = 0.05\n",
        "Eq = ltn.Predicate(func=lambda u, v: torch.exp(\n",
        "    -alpha * torch.sqrt(torch.sum(torch.square(u - v), dim=1)))\n",
        ")\n",
        "\n",
        "# Define your PyTorch LTN model\n",
        "f = ltn.Predicate(Wide())\n",
        "\n",
        "# Define optimizer\n",
        "optimizer = torch.optim.Adam(f.parameters(), lr=0.001)\n",
        "\n",
        "# we define the universal quantifier and the SatAgg operator\n",
        "Forall = ltn.Quantifier(ltn.fuzzy_ops.AggregPMeanError(p=2), quantifier=\"f\")\n",
        "SatAgg = ltn.fuzzy_ops.SatAgg()\n",
        "Not = ltn.Connective(ltn.fuzzy_ops.NotStandard())\n",
        "\n",
        "# it computes the overall satisfaction level on the knowledge base using the given data loader (train or test)\n",
        "def compute_sat_level(loader):\n",
        "    mean_sat = 0\n",
        "    for data, labels in loader:\n",
        "        x = ltn.Variable(\"x\", data)  # samples\n",
        "        y = ltn.Variable(\"y\", labels)  # ground truths\n",
        "        mean_sat += Forall(ltn.diag(x, y), Eq(f(x), y)).value\n",
        "    mean_sat /= len(loader)\n",
        "    return mean_sat\n",
        "\n",
        "# it computes the overall accuracy of the predictions of the trained model using the given data loader\n",
        "# (train or test)\n",
        "def compute_accuracy(loader):\n",
        "    mean_accuracy = 0.0\n",
        "    for data, labels in loader:\n",
        "        predictions = f.model(data).detach().numpy()\n",
        "        predictions = np.where(predictions > 0.5, 1., 0.).flatten()\n",
        "        mean_accuracy += accuracy_score(labels, predictions)\n",
        "\n",
        "    return mean_accuracy / len(loader)\n",
        "\n",
        "# training of the predicate A using a loss containing the satisfaction level of the knowledge base\n",
        "# the objective it to maximize the satisfaction level of the knowledge base\n",
        "for epoch in range(1000):\n",
        "    train_loss = 0.0\n",
        "    for batch_idx, (data, labels) in enumerate(train_loader):\n",
        "        optimizer.zero_grad()\n",
        "        # we ground the variables with current batch data\n",
        "        # x_A = ltn.Variable(\"x_A\", data[torch.nonzero(labels)]) # positive examples\n",
        "        # x_not_A = ltn.Variable(\"x_not_A\", data[torch.nonzero(torch.logical_not(labels))]) # negative examples\n",
        "        # sat_agg = SatAgg(\n",
        "        #     Forall(x_A, f(x_A)),\n",
        "        #     Forall(x_not_A, Not(f(x_not_A)))\n",
        "        # )\n",
        "        x = ltn.Variable(\"x\", data)  # samples\n",
        "        y = ltn.Variable(\"y\", labels)  # ground truths\n",
        "        sat_agg = Forall(ltn.diag(x, y), Eq(f(x), y)).value\n",
        "        loss = 1. - sat_agg\n",
        "        loss.backward()\n",
        "        optimizer.step()\n",
        "        train_loss += loss.item()\n",
        "    train_loss = train_loss / len(train_loader)\n",
        "\n",
        "    # we print metrics every 50 epochs of training\n",
        "    if epoch % 50 == 0:\n",
        "        print(\" epoch %d | loss %.4f | Train Sat %.3f | Test Sat %.3f | Train Acc %.3f | Test Acc %.3f \" %\n",
        "              (epoch, train_loss, compute_sat_level(train_loader), compute_sat_level(test_loader),\n",
        "                    compute_accuracy(train_loader), compute_accuracy(test_loader)))\n",
        "\n"
      ],
      "metadata": {
        "colab": {
          "base_uri": "https://localhost:8080/"
        },
        "id": "DfMYGFz4OtHw",
        "outputId": "a9b92b95-d195-40b5-a71d-1f3dee440c6a"
      },
      "execution_count": null,
      "outputs": [
        {
          "output_type": "stream",
          "name": "stdout",
          "text": [
            " epoch 0 | loss 0.1809 | Train Sat 0.819 | Test Sat 0.820 | Train Acc 0.726 | Test Acc 0.725 \n",
            " epoch 50 | loss 0.1807 | Train Sat 0.819 | Test Sat 0.820 | Train Acc 0.931 | Test Acc 0.932 \n",
            " epoch 100 | loss 0.1807 | Train Sat 0.819 | Test Sat 0.820 | Train Acc 0.928 | Test Acc 0.928 \n",
            " epoch 150 | loss 0.1807 | Train Sat 0.819 | Test Sat 0.820 | Train Acc 0.943 | Test Acc 0.944 \n",
            " epoch 200 | loss 0.1807 | Train Sat 0.819 | Test Sat 0.820 | Train Acc 0.921 | Test Acc 0.921 \n",
            " epoch 250 | loss 0.1807 | Train Sat 0.819 | Test Sat 0.820 | Train Acc 0.946 | Test Acc 0.946 \n",
            " epoch 300 | loss 0.1807 | Train Sat 0.819 | Test Sat 0.820 | Train Acc 0.948 | Test Acc 0.949 \n",
            " epoch 350 | loss 0.1807 | Train Sat 0.819 | Test Sat 0.820 | Train Acc 0.940 | Test Acc 0.940 \n",
            " epoch 400 | loss 0.1807 | Train Sat 0.819 | Test Sat 0.820 | Train Acc 0.943 | Test Acc 0.943 \n",
            " epoch 450 | loss 0.1807 | Train Sat 0.819 | Test Sat 0.820 | Train Acc 0.928 | Test Acc 0.929 \n",
            " epoch 500 | loss 0.1807 | Train Sat 0.819 | Test Sat 0.820 | Train Acc 0.944 | Test Acc 0.945 \n",
            " epoch 550 | loss 0.1807 | Train Sat 0.819 | Test Sat 0.820 | Train Acc 0.947 | Test Acc 0.948 \n",
            " epoch 600 | loss 0.1807 | Train Sat 0.819 | Test Sat 0.821 | Train Acc 0.950 | Test Acc 0.950 \n",
            " epoch 650 | loss 0.1807 | Train Sat 0.819 | Test Sat 0.820 | Train Acc 0.939 | Test Acc 0.940 \n",
            " epoch 700 | loss 0.1807 | Train Sat 0.819 | Test Sat 0.820 | Train Acc 0.944 | Test Acc 0.944 \n",
            " epoch 750 | loss 0.1807 | Train Sat 0.819 | Test Sat 0.820 | Train Acc 0.950 | Test Acc 0.950 \n",
            " epoch 800 | loss 0.1807 | Train Sat 0.819 | Test Sat 0.820 | Train Acc 0.948 | Test Acc 0.948 \n",
            " epoch 850 | loss 0.1807 | Train Sat 0.819 | Test Sat 0.820 | Train Acc 0.948 | Test Acc 0.948 \n",
            " epoch 900 | loss 0.1807 | Train Sat 0.819 | Test Sat 0.820 | Train Acc 0.951 | Test Acc 0.951 \n",
            " epoch 950 | loss 0.1807 | Train Sat 0.819 | Test Sat 0.820 | Train Acc 0.955 | Test Acc 0.955 \n"
          ]
        }
      ]
    }
  ]
}